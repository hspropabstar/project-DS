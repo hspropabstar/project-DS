{
 "cells": [
  {
   "cell_type": "code",
   "execution_count": 1,
   "metadata": {},
   "outputs": [],
   "source": [
    "#Простой парсинг google, использовалось для проверки, действительно ли это фамилия. \n",
    "import pandas as pd\n",
    "import numpy as np \n",
    "import re\n",
    "from bs4 import BeautifulSoup\n",
    "import urllib.request\n",
    "import requests\n",
    "from urllib.parse   import quote"
   ]
  },
  {
   "cell_type": "code",
   "execution_count": 2,
   "metadata": {},
   "outputs": [],
   "source": [
    "data = pd.read_csv('linear_train.txt', sep=\",\", header=None)"
   ]
  },
  {
   "cell_type": "code",
   "execution_count": 3,
   "metadata": {},
   "outputs": [
    {
     "data": {
      "text/html": [
       "<div>\n",
       "<style scoped>\n",
       "    .dataframe tbody tr th:only-of-type {\n",
       "        vertical-align: middle;\n",
       "    }\n",
       "\n",
       "    .dataframe tbody tr th {\n",
       "        vertical-align: top;\n",
       "    }\n",
       "\n",
       "    .dataframe thead th {\n",
       "        text-align: right;\n",
       "    }\n",
       "</style>\n",
       "<table border=\"1\" class=\"dataframe\">\n",
       "  <thead>\n",
       "    <tr style=\"text-align: right;\">\n",
       "      <th></th>\n",
       "      <th>0</th>\n",
       "      <th>1</th>\n",
       "    </tr>\n",
       "  </thead>\n",
       "  <tbody>\n",
       "    <tr>\n",
       "      <th>0</th>\n",
       "      <td>Аалтонен</td>\n",
       "      <td>1</td>\n",
       "    </tr>\n",
       "    <tr>\n",
       "      <th>1</th>\n",
       "      <td>Аар</td>\n",
       "      <td>0</td>\n",
       "    </tr>\n",
       "    <tr>\n",
       "      <th>2</th>\n",
       "      <td>Аарон</td>\n",
       "      <td>0</td>\n",
       "    </tr>\n",
       "    <tr>\n",
       "      <th>3</th>\n",
       "      <td>ААРОН</td>\n",
       "      <td>0</td>\n",
       "    </tr>\n",
       "    <tr>\n",
       "      <th>4</th>\n",
       "      <td>Аарона</td>\n",
       "      <td>0</td>\n",
       "    </tr>\n",
       "  </tbody>\n",
       "</table>\n",
       "</div>"
      ],
      "text/plain": [
       "          0  1\n",
       "0  Аалтонен  1\n",
       "1       Аар  0\n",
       "2     Аарон  0\n",
       "3     ААРОН  0\n",
       "4    Аарона  0"
      ]
     },
     "execution_count": 3,
     "metadata": {},
     "output_type": "execute_result"
    }
   ],
   "source": [
    "data.head()"
   ]
  },
  {
   "cell_type": "code",
   "execution_count": 4,
   "metadata": {},
   "outputs": [],
   "source": [
    "data.columns = ['Word', 'Is_senond_name']"
   ]
  },
  {
   "cell_type": "code",
   "execution_count": 5,
   "metadata": {},
   "outputs": [],
   "source": [
    "second_name = data[data['Is_senond_name'] == 1]"
   ]
  },
  {
   "cell_type": "code",
   "execution_count": 6,
   "metadata": {},
   "outputs": [],
   "source": [
    "second_name['Word'].unique()\n",
    "family = []"
   ]
  },
  {
   "cell_type": "code",
   "execution_count": 11,
   "metadata": {},
   "outputs": [],
   "source": [
    "def get_html(url):\n",
    "    response = requests.get(url)\n",
    "    return response.text"
   ]
  },
  {
   "cell_type": "code",
   "execution_count": 72,
   "metadata": {},
   "outputs": [
    {
     "name": "stdout",
     "output_type": "stream",
     "text": [
      "[<div class=\"BNeawe vvjwJb AP7Wnd\">Kendrick Lamar - i (Official Video) - YouTube</div>, <div class=\"BNeawe vvjwJb AP7Wnd\">G-Eazy - I Wanna Rock (Official Video) ft. Gunna - YouTube</div>, <div class=\"BNeawe vvjwJb AP7Wnd\">I — Википедия</div>, <div class=\"BNeawe vvjwJb AP7Wnd\">I.UA — твоя почта</div>, <div class=\"BNeawe vvjwJb AP7Wnd\">твоя почта - I.UA</div>, <div class=\"BNeawe vvjwJb AP7Wnd\">КутузовGRAD I - Инград</div>, <div class=\"BNeawe vvjwJb AP7Wnd\">О компании - i-Media</div>, <div class=\"BNeawe vvjwJb AP7Wnd\">inews.co.uk: news, politics, opinion and sport from the i newspaper</div>, <div class=\"BNeawe vvjwJb AP7Wnd\">When I Work :: Schedule, Track, Communicate</div>, <div class=\"BNeawe vvjwJb AP7Wnd\">Tones and I Official Website: Get the latest music releases, video ...</div>]\n",
      "https://www.google.com/search?q=i\n"
     ]
    }
   ],
   "source": [
    "url = 'https://www.google.com/search?q='+quote('')\n",
    "def parse(html):\n",
    "    soup = BeautifulSoup(get_html(html), 'html.parser')\n",
    "    soup_find = soup.findAll('div', class_=\"BNeawe vvjwJb AP7Wnd\")\n",
    "    print(soup_find)\n",
    "parse(url)\n",
    "print(url)"
   ]
  },
  {
   "cell_type": "code",
   "execution_count": null,
   "metadata": {},
   "outputs": [],
   "source": [
    "try:\n",
    "            url = 'https://www.google.com/search?q=' + quote (i)\n",
    "            match = re.findall(r'\\D+''амилия', parse(url))\n",
    "            family.append(match)\n",
    "            print(family)\n",
    "        except :\n",
    "            pass"
   ]
  },
  {
   "cell_type": "code",
   "execution_count": 74,
   "metadata": {},
   "outputs": [
    {
     "name": "stderr",
     "output_type": "stream",
     "text": [
      "C:\\Users\\DIMAS\\AppData\\Local\\Continuum\\anaconda3\\lib\\site-packages\\pandas\\util\\_decorators.py:188: FutureWarning: The `sheetname` keyword is deprecated, use `sheet_name` instead\n",
      "  return func(*args, **kwargs)\n"
     ]
    }
   ],
   "source": [
    "data2 = pd.read_excel('Lastnamedataset.xlsx',sheetname='Sheet2' ,header=None)"
   ]
  }
 ],
 "metadata": {
  "kernelspec": {
   "display_name": "Python 3",
   "language": "python",
   "name": "python3"
  },
  "language_info": {
   "codemirror_mode": {
    "name": "ipython",
    "version": 3
   },
   "file_extension": ".py",
   "mimetype": "text/x-python",
   "name": "python",
   "nbconvert_exporter": "python",
   "pygments_lexer": "ipython3",
   "version": "3.7.3"
  }
 },
 "nbformat": 4,
 "nbformat_minor": 2
}
